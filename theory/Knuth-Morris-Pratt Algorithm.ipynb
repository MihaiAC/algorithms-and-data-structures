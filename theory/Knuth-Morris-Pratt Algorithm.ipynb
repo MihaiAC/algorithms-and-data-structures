{
 "cells": [
  {
   "cell_type": "markdown",
   "metadata": {},
   "source": [
    "# Knuth-Morris-Pratt Algorithm"
   ]
  },
  {
   "cell_type": "markdown",
   "metadata": {},
   "source": [
    "Problem: find all occurences of a pattern P of length n in text T of length n"
   ]
  },
  {
   "cell_type": "code",
   "execution_count": 1,
   "metadata": {},
   "outputs": [],
   "source": [
    "T = \"xyxxyxyxyyxyxyxyyxyxyxxy\"\n",
    "P = \"xyxyyxyxyxx\""
   ]
  },
  {
   "cell_type": "markdown",
   "metadata": {},
   "source": [
    "KMP = O(m+n) solution to the above problem  \n",
    "Reference: http://www.cs.ubc.ca/labs/beta/Courses/CPSC445-08/Handouts/kmp.pdf"
   ]
  },
  {
   "cell_type": "markdown",
   "metadata": {},
   "source": [
    "Overview:  \n",
    "If we have matched P[0,...,q] with T[i-q,...,i], we check if P[q] == T[i+1]  \n",
    "If true, we increment i and q | note the occurence of the pattern if q = m and slide the pattern to the right | end the algorithm if we have reached the end of the text  \n",
    "If false, we slide the pattern to the right | increment i if we can no longer slide it to the right (S[q] = -1)"
   ]
  },
  {
   "cell_type": "markdown",
   "metadata": {},
   "source": [
    "Sliding:  \n",
    "We precompute a table S so that S[q] gives us the longest proper prefix of substring P[0...q] that is also a suffix of the substring. Proper prefix = any prefix that isn't the whole substring"
   ]
  },
  {
   "cell_type": "markdown",
   "metadata": {},
   "source": [
    "Computing array S:  \n",
    "S[0] = -1  \n",
    "At step i, we want to compute S[i] and we have S[i-1]  \n",
    "q <- S[i-1]  \n",
    "While(True):  \n",
    "If P[i] = P[q+1] => S[i] = q+1 + break  \n",
    "Else q <- S[q] + if q = -1 break (we go to the previous longest proper prefix we found)\n",
    "\n",
    "Extra explanation for the last line: Say we have the substring xyxyp.....xyxyt  \n",
    "p != t => we consider the longest common prefix of the substring 'xyxy' (the previous longest common prefix that is also a suffix) ('xy') and check if x == t and so on.  \n",
    "Why not consider 'xyx'? Because we already know that 'xyx' is not a suffix of 'xyxy', we already computed what to try out next."
   ]
  },
  {
   "cell_type": "code",
   "execution_count": 18,
   "metadata": {},
   "outputs": [],
   "source": [
    "def compute_prefix_table(P):\n",
    "    S = [-1] * len(P)\n",
    "    for ii in range(1,len(P)):\n",
    "        #print(ii)\n",
    "        q = S[ii-1]\n",
    "        while(True):\n",
    "            if(P[ii] == P[q+1]):\n",
    "                S[ii] = q+1\n",
    "                break\n",
    "            else:\n",
    "                if(q == -1):\n",
    "                    break\n",
    "                q = S[q]\n",
    "                if(q == -1):\n",
    "                    break\n",
    "    return S"
   ]
  },
  {
   "cell_type": "code",
   "execution_count": 19,
   "metadata": {},
   "outputs": [
    {
     "data": {
      "text/plain": [
       "[-1, -1, 0, 1, -1, 0, 1, 2, 3, 2, -1]"
      ]
     },
     "execution_count": 19,
     "metadata": {},
     "output_type": "execute_result"
    }
   ],
   "source": [
    "S = compute_prefix_table(P)\n",
    "S"
   ]
  },
  {
   "cell_type": "markdown",
   "metadata": {},
   "source": [
    "Sanity check for non-zero values of S:"
   ]
  },
  {
   "cell_type": "code",
   "execution_count": 15,
   "metadata": {},
   "outputs": [
    {
     "name": "stdout",
     "output_type": "stream",
     "text": [
      "0: xyx x\n",
      "1: xyxy xy\n",
      "0: xyxyyx x\n",
      "1: xyxyyxy xy\n",
      "2: xyxyyxyx xyx\n",
      "3: xyxyyxyxy xyxy\n",
      "2: xyxyyxyxyx xyx\n"
     ]
    }
   ],
   "source": [
    "for ii in range(len(S)):\n",
    "    if(S[ii] == -1):\n",
    "        continue\n",
    "    print(str(S[ii]) + ': ' + P[:ii+1] + ' ' + P[:S[ii]+1])"
   ]
  },
  {
   "cell_type": "markdown",
   "metadata": {},
   "source": [
    "KMP Algorithm:"
   ]
  },
  {
   "cell_type": "code",
   "execution_count": 28,
   "metadata": {},
   "outputs": [],
   "source": [
    "# Returns an array of indices where pattern P occurs in T\n",
    "def kmp(T,P):\n",
    "    S = compute_prefix_table(P)\n",
    "    occ = []\n",
    "    \n",
    "    if(len(P) > len(T)):\n",
    "        return []\n",
    "    \n",
    "    if(len(P) == len(T)):\n",
    "        return [0] if P == T else []\n",
    "    \n",
    "    jj = -1 # index in P such that P[0...jj-1] is matched with T[ii-jj+1,...,ii]\n",
    "    ii = -1\n",
    "    while(ii < len(T)-1):\n",
    "        if(P[jj+1] == T[ii+1]):\n",
    "            if(jj+1 == len(P) - 1):\n",
    "                occ.append(ii-len(P)+2)\n",
    "                jj = S[len(P)-1]\n",
    "            else:\n",
    "                jj += 1\n",
    "            ii += 1\n",
    "        else:\n",
    "            if(jj == -1):\n",
    "                ii += 1\n",
    "            else:\n",
    "                jj = S[jj]\n",
    "    return occ"
   ]
  },
  {
   "cell_type": "code",
   "execution_count": 29,
   "metadata": {},
   "outputs": [],
   "source": [
    "occ = kmp(T,P)"
   ]
  },
  {
   "cell_type": "code",
   "execution_count": 30,
   "metadata": {},
   "outputs": [
    {
     "data": {
      "text/plain": [
       "'xyxyyxyxyxx'"
      ]
     },
     "execution_count": 30,
     "metadata": {},
     "output_type": "execute_result"
    }
   ],
   "source": [
    "P"
   ]
  },
  {
   "cell_type": "code",
   "execution_count": 31,
   "metadata": {},
   "outputs": [
    {
     "data": {
      "text/plain": [
       "'xyxyyxyxyxxy'"
      ]
     },
     "execution_count": 31,
     "metadata": {},
     "output_type": "execute_result"
    }
   ],
   "source": [
    "T[occ[0]:]"
   ]
  },
  {
   "cell_type": "code",
   "execution_count": 27,
   "metadata": {},
   "outputs": [
    {
     "data": {
      "text/plain": [
       "[10]"
      ]
     },
     "execution_count": 27,
     "metadata": {},
     "output_type": "execute_result"
    }
   ],
   "source": [
    "occ"
   ]
  },
  {
   "cell_type": "code",
   "execution_count": 35,
   "metadata": {},
   "outputs": [
    {
     "name": "stdout",
     "output_type": "stream",
     "text": [
      "abcdef @pos: 15\n"
     ]
    }
   ],
   "source": [
    "T = \"aababcabcdabcdeabcdef\"\n",
    "P = \"abcdef\"\n",
    "\n",
    "occs = kmp(T,P)\n",
    "\n",
    "for occ in occs:\n",
    "    print(T[occ:occ+len(P)] + ' @pos: ' + str(occ))"
   ]
  },
  {
   "cell_type": "code",
   "execution_count": null,
   "metadata": {},
   "outputs": [],
   "source": []
  }
 ],
 "metadata": {
  "kernelspec": {
   "display_name": "Python 3",
   "language": "python",
   "name": "python3"
  },
  "language_info": {
   "codemirror_mode": {
    "name": "ipython",
    "version": 3
   },
   "file_extension": ".py",
   "mimetype": "text/x-python",
   "name": "python",
   "nbconvert_exporter": "python",
   "pygments_lexer": "ipython3",
   "version": "3.6.6"
  }
 },
 "nbformat": 4,
 "nbformat_minor": 2
}
